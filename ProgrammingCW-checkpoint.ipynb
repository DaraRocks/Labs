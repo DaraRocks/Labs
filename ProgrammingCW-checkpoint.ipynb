{
 "cells": [
  {
   "cell_type": "markdown",
   "id": "4cbb77fa",
   "metadata": {},
   "source": [
    "Task 1: \n",
    "AnalytiCool are a local company providing a range of data analysis solutions to its clients. You work as a program developer for AnalytiCool and have been tasked with building a conversion bot which helps users convert their weight and height measurements from the imperial to the metric system.\n"
   ]
  },
  {
   "cell_type": "code",
   "execution_count": 16,
   "id": "910fad9e",
   "metadata": {},
   "outputs": [
    {
     "name": "stdout",
     "output_type": "stream",
     "text": [
      "Hello, I am Data AnalytiCool's conversion bot. Can you please tell me your name?Dara\n",
      "Hello Dara,please tell me your weight in Kilograms:75\n",
      "Thank you Dara,please tell me your height in cm:182\n",
      "Thank you Dara,you weigh 11 stone and 11 pounds and you are 5 feet and 12 inches tall.\n",
      "Thank you for using Data AnalytiCool's metric conversion bot.\n"
     ]
    }
   ],
   "source": [
    "name=(input(\"Hello, I am Data AnalytiCool's conversion bot. Can you please tell me your name?\")) \n",
    "kg=(input(f\"Hello {name},please tell me your weight in Kilograms:\")) \n",
    "cm=(input(f\"Thank you {name},please tell me your height in Centimeters:\")) \n",
    "\n",
    "# In the above 3 lines of code i am using the input function to interact with the user and to gather the 3 peices of data\n",
    "# we need for our program,The user's name,weight in kilograms and height in centimeters. these are then stored and saved \n",
    "# as variables in our program which we can use for our conversion calculations. \n",
    "\n",
    "if kg.isdigit() and cm.isdigit():\n",
    "\n",
    "#The above line of code i am using the isdigit() function as a way of the validating the data the user has entered\n",
    "#for their weight and height. We want to insure the user has entered a numeric value for their weight and height so \n",
    "#our calculations below can work. The isdigit() function returns boolean value true if all the values in the input string\n",
    "#are digits;else returns false.\n",
    "\n",
    "    \n",
    "    pounds=float(kg)*2.2 \n",
    "    stone=pounds//14 \n",
    "    remainingpounds=pounds%14 \n",
    "    \n",
    "    inches=float(cm)/2.54 \n",
    "    feet=inches//12 \n",
    "    remaininginches=inches%12 \n",
    " \n",
    "    print(f\"Thank you {name},you weigh\",int(stone),\"stone\",\"and\",round(remainingpounds),\"pounds\", \"and you are\",int(feet),\"feet and\",round(remaininginches),\"inches tall.\") \n",
    "    print(\"Thank you for using Data AnalytiCool's metric conversion bot.\") \n",
    "    \n",
    "else: \n",
    "    print(\"please enter a numerical value for your height and weight, for example '75' and NOT 'Seventy Five'\") \n",
    "\n",
    "\n",
    "\n",
    "\n",
    "\n",
    "\n",
    "#*182cm is returing 5 feet 12 inches. 6 feet is the correct term.\n",
    "\n",
    "\n",
    "\n",
    "\n",
    "\n",
    "\n",
    "\n",
    "\n",
    "\n",
    "\n",
    "\n",
    "\n",
    "  \n",
    " \n",
    "\n",
    "\n",
    "    \n",
    "    "
   ]
  },
  {
   "cell_type": "code",
   "execution_count": null,
   "id": "0b66ec41",
   "metadata": {},
   "outputs": [],
   "source": []
  },
  {
   "cell_type": "code",
   "execution_count": null,
   "id": "9451e4b1",
   "metadata": {},
   "outputs": [],
   "source": []
  },
  {
   "cell_type": "code",
   "execution_count": null,
   "id": "b15b95c0",
   "metadata": {},
   "outputs": [],
   "source": []
  }
 ],
 "metadata": {
  "kernelspec": {
   "display_name": "Python 3 (ipykernel)",
   "language": "python",
   "name": "python3"
  },
  "language_info": {
   "codemirror_mode": {
    "name": "ipython",
    "version": 3
   },
   "file_extension": ".py",
   "mimetype": "text/x-python",
   "name": "python",
   "nbconvert_exporter": "python",
   "pygments_lexer": "ipython3",
   "version": "3.11.5"
  }
 },
 "nbformat": 4,
 "nbformat_minor": 5
}
